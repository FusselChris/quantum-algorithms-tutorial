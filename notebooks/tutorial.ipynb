{
 "cells": [
  {
   "cell_type": "markdown",
   "id": "security-warning",
   "metadata": {},
   "source": [
    "# ⚠️ IMPORTANT SECURITY WARNING ⚠️\n",
    "\n",
    "<div style=\"background-color: #ffebcd; border-left: 5px solid #ff6b35; padding: 10px; margin: 10px 0;\">\n",
    "<strong>This repository is for educational use only and is not production-hardened.</strong><br>\n",
    "<strong>The code may lack comprehensive security and reliability checks.</strong><br>\n",
    "<strong>DO NOT use this repository or its code for quantum-cryptographic or security-critical production applications without an independent security audit.</strong>\n",
    "</div>\n",
    "\n",
    "---"
   ]
  },
  {
   "cell_type": "markdown",
   "id": "intro",
   "metadata": {},
   "source": [
    "# Quantum Algorithms Tutorial\n",
    "This notebook demonstrates quantum teleportation and Grover's algorithm using Qiskit."
   ]
  },
  {
   "cell_type": "code",
   "execution_count": null,
   "id": "install",
   "metadata": {},
   "outputs": [],
   "source": [
    "# !pip install -r ../requirements.txt"
   ]
  },
  {
   "cell_type": "code",
   "execution_count": null,
   "id": "imports",
   "metadata": {},
   "outputs": [],
   "source": [
    "from src.teleportation import quantum_teleportation, build_teleportation_circuit\n",
    "from src.grover import grovers_algorithm\n",
    "from qiskit import QuantumCircuit"
   ]
  },
  {
   "cell_type": "markdown",
   "id": "teleportation-section",
   "metadata": {},
   "source": [
    "## Quantum Teleportation\n",
    "We build and simulate the teleportation circuit for |0> and |1> superpositions."
   ]
  },
  {
   "cell_type": "code",
   "execution_count": null,
   "id": "teleportation-demo",
   "metadata": {},
   "outputs": [],
   "source": [
    "counts, qc = quantum_teleportation(1.0, 0.0, shots=256, return_circuit=True)\n",
    "print(counts)\n",
    "display(qc.draw(output='mpl')) if hasattr(qc, 'draw') else print(qc)"
   ]
  },
  {
   "cell_type": "markdown",
   "id": "grover-section",
   "metadata": {},
   "source": [
    "## Grover's Algorithm\n",
    "Run Grover on n=3 qubits with marked state '101'."
   ]
  },
  {
   "cell_type": "code",
   "execution_count": null,
   "id": "grover-demo",
   "metadata": {},
   "outputs": [],
   "source": [
    "counts, qc = grovers_algorithm(n=3, marked='101', shots=256, return_circuit=True)\n",
    "print(counts)\n",
    "display(qc.draw(output='mpl')) if hasattr(qc, 'draw') else print(qc)"
   ]
  }
 ],
 "metadata": {
  "kernelspec": {
   "display_name": "Python 3",
   "language": "python",
   "name": "python3"
  },
  "language_info": {
   "codemirror_mode": {
    "name": "ipython",
    "version": 3
   },
   "file_extension": ".py",
   "mimetype": "text/x-python",
   "name": "python",
   "nbconvert_exporter": "python",
   "pygments_lexer": "ipython3",
   "version": "3.9.7"
  }
 },
 "nbformat": 4,
 "nbformat_minor": 5
}
