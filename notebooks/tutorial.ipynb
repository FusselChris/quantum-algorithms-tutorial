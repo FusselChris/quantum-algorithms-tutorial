{
 "cells": [
  {
   "cell_type": "markdown",
   "id": "intro",
   "metadata": {},
   "source": [
    "# Quantum Algorithms Tutorial\n",
    "This notebook demonstrates quantum teleportation and Grover's algorithm using Qiskit."
   ]
  },
  {
   "cell_type": "code",
   "execution_count": null,
   "id": "install",
   "metadata": {},
   "outputs": [],
   "source": [
    "# !pip install -r ../requirements.txt"
   ]
  },
  {
   "cell_type": "code",
   "execution_count": null,
   "id": "imports",
   "metadata": {},
   "outputs": [],
   "source": [
    "from src.teleportation import quantum_teleportation, build_teleportation_circuit\n",
    "from src.grover import grovers_algorithm\n",
    "from qiskit import QuantumCircuit"
   ]
  },
  {
   "cell_type": "markdown",
   "id": "teleportation-section",
   "metadata": {},
   "source": [
    "## Quantum Teleportation\n",
    "We build and simulate the teleportation circuit for |0> and |1> superpositions."
   ]
  },
  {
   "cell_type": "code",
   "execution_count": null,
   "id": "teleportation",
   "metadata": {},
   "outputs": [],
   "source": [
    "counts, qc = quantum_teleportation(1.0, 0.0, shots=256, return_circuit=True)\n",
    "print(counts)\n",
    "display(qc.draw(output='mpl')) if hasattr(qc, 'draw') else print(qc)"
   ]
  },
  {
   "cell_type": "markdown",
   "id": "grover-section",
   "metadata": {},
   "source": [
    "## Grover's Algorithm\n",
    "Run Grover on n=3 qubits with marked state '101'."
   ]
  },
  {
   "cell_type": "code",
   "execution_count": null,
   "id": "grover",
   "metadata": {},
   "outputs": [],
   "source": [
    "counts, qc = grovers_algorithm(n=3, marked='101', shots=256, return_circuit=True)\n",
    "print(counts)\n",
    "display(qc.draw(output='mpl')) if hasattr(qc, 'draw') else print(qc)"
   ]
  }
 ],
 "metadata": {
  "kernelspec": {
   "display_name": "Python 3",
   "language": "python",
   "name": "python3"
  },
  "language_info": {
   "name": "python",
   "version": "3.x"
  }
 },
 "nbformat": 4,
 "nbformat_minor": 5
}
