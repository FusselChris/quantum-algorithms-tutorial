{
 "cells": [
  {
   "cell_type": "markdown",
   "id": "security-warning",
   "metadata": {},
   "source": [
    "# ⚠️ IMPORTANT SECURITY WARNING ⚠️\n",
    "This notebook can execute arbitrary Python code. Never run code from untrusted sources. Inspect and sanitize all notebook content before executing."
   ]
  },
  {
   "cell_type": "markdown",
   "id": "intro",
   "metadata": {},
   "source": [
    "# Quantum Algorithms Tutorial\n",
    "This notebook demonstrates quantum teleportation and Grover's algorithm using Qiskit."
   ]
  },
  {
   "cell_type": "code",
   "execution_count": null,
   "id": "install",
   "metadata": {},
   "outputs": [],
   "source": [
    "# !pip install -r ../requirements.txt"
   ]
  },
  {
   "cell_type": "code",
   "execution_count": null,
   "id": "imports",
   "metadata": {},
   "outputs": [],
   "source": [
    "from src.teleportation import quantum_teleportation, build_teleportation_circuit\n",
    "from src.grover import grovers_algorithm\n",
    "from qiskit import QuantumCircuit"
   ]
  },
  {
   "cell_type": "markdown",
   "id": "teleportation",
   "metadata": {},
   "source": [
    "## Quantum Teleportation\n",
    "We build and simulate the teleportation circuit for |0> and |1> superpositions."
   ]
  },
  {
   "cell_type": "code",
   "execution_count": null,
   "id": "teleportation-demo",
   "metadata": {},
   "outputs": [],
   "source": [
    "counts, qc = quantum_teleportation(1.0, 0.0, shots=256, return_circuit=True)\n",
    "\n",
    "print(counts)\n",
    "\n",
    "display(qc.draw(output='mpl')) if hasattr(qc, 'draw') else print(qc)"
   ]
  },
  {
   "cell_type": "markdown",
   "id": "grover",
   "metadata": {},
   "source": [
    "## Grover's Algorithm\n",
    "Run Grover on n=3 qubits with marked state '101'."
   ]
  },
  {
   "cell_type": "code",
   "execution_count": null,
   "id": "grover-demo",
   "metadata": {},
   "outputs": [],
   "source": [
    "counts, qc = grovers_algorithm(n=3, marked='101', shots=256, return_circuit=True)\n",
    "\n",
    "print(counts)\n",
    "\n",
    "display(qc.draw(output='mpl')) if hasattr(qc, 'draw') else print(qc)"
   ]
  }
 ],
 "metadata": {
  "kernelspec": {
   "display_name": "Python 3",
   "language": "python",
   "name": "python3"
  },
  "language_info": {
   "codemirror_mode": {
    "name": "ipython",
    "version": 3
   },
   "file_extension": ".py",
   "mimetype": "text/x-python",
   "name": "python",
   "nbconvert_exporter": "python",
   "pygments_lexer": "ipython3",
   "version": "3.8.5"
  }
 },
 "nbformat": 4,
 "nbformat_minor": 4
}
