{
 "cells": [
  {
   "cell_type": "markdown",
   "metadata": {},
   "source": [
    "# Quantum for Astrophysics Tutorial\n\nThis notebook applies quantum algorithms to astrophysics: Simulate a black hole toy model and use Grover's for gravitational wave pattern search.\n\n**Educational Highlight:** Visualizations of entropy dynamics and probability amplification in astrophysical contexts."
   ]
  },
  {
   "cell_type": "markdown",
   "metadata": {},
   "source": [
    "## Black Hole Information Paradox Toy Model\nSimulates simple evaporation with scrambling. Compute and visualize entropy to show information preservation."
   ]
  },
  {
   "cell_type": "code",
   "metadata": {},
   "source": [
    "from src.black_hole_toy import black_hole_toy_model\ncircuit, ent = black_hole_toy_model()\ncircuit.draw('mpl')\nprint(f'Entanglement Entropy of Radiation: {ent}')\n# Visualize state\nfrom qiskit.visualization import plot_bloch_multivector\nstate = circuit.remove_final_measurements(inplace=False) # For vis\n# Need to run statevector sim again\nfrom qiskit_aer import Aer\nfrom qiskit.visualization import plot_state_city\nsim = Aer.get_backend('statevector_simulator')\nresult = sim.run(circuit).result()\nstate = result.get_statevector()\nprint('Bloch Spheres:')\nplot_bloch_multivector(state)"
   ],
   "execution_count": null,
   "outputs": []
  },
  {
   "cell_type": "markdown",
   "metadata": {},
   "source": [
    "## Explanation\nInfalling qubit entangled with BH, then scrambled with radiation. Entropy >0 shows entanglement (information 'lost' but recoverable). In full models, page curve shows recovery."
   ]
  },
  {
   "cell_type": "markdown",
   "metadata": {},
   "source": [
    "## Grover's for Gravitational Wave Patterns\nAdapts Grover to search a small template bank (e.g., 4 simplified GW waveforms represented as binary states)."
   ]
  },
  {
   "cell_type": "code",
   "metadata": {},
   "source": [
    "from src.grover import grovers_algorithm\n# Assume states '00','01','10','11' as GW templates (e.g., different frequencies)\n# Mark '10' as matching pattern (simulated detection)\ncircuit, result = grovers_algorithm(num_qubits=2, marked_item='10')\ncircuit.draw('mpl')\nprint(result)\nfrom qiskit.visualization import plot_histogram\nplot_histogram(result)"
   ],
   "execution_count": null,
   "outputs": []
  },
  {
   "cell_type": "markdown",
   "metadata": {},
   "source": [
    "## Explanation\nGrover amplifies the marked template's probability. In real GW detection, this speeds up matched filtering over large parameter spaces (quadratic speedup per research on GW150914)."
   ]
  }
 ],
 "metadata": {
  "kernelspec": {
   "display_name": "Python 3",
   "language": "python",
   "name": "python3"
  },
  "language_info": {
   "codemirror_mode": {
    "name": "ipython",
    "version": 3
   },
   "file_extension": ".py",
   "mimetype": "text/x-python",
   "name": "python",
   "nbconvert_exporter": "python",
   "pygments_lexer": "ipython3",
   "version": "3.8.0"
  }
 },
 "nbformat": 4,
 "nbformat_minor": 4
}
