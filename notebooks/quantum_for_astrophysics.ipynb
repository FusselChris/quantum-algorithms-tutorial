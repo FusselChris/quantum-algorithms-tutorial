{
 "cells": [
  {
   "cell_type": "markdown",
   "metadata": {},
   "source": [
    "# ⚠️ IMPORTANT SECURITY WARNING ⚠️\n",
    "\n",
    "<div style=\"background-color: #ffebcd; border-left: 5px solid #ff6b35; padding: 10px; margin: 10px 0;\">\n",
    "<strong>This repository is for educational use only and is not production-hardened.</strong><br>\n",
    "<strong>The code may lack comprehensive security and reliability checks.</strong><br>\n",
    "<strong>DO NOT use this repository or its code for quantum-cryptographic or security-critical production applications without an independent security audit.</strong>\n",
    "</div>\n",
    "\n",
    "---"
   ]
  },
  {
   "cell_type": "markdown",
   "metadata": {},
   "source": [
    "# Quantum for Astrophysics Tutorial\n",
    "\n",
    "This notebook applies quantum algorithms to astrophysics: Simulate a black hole toy model and use Grover's for gravitational wave pattern search.\n",
    "\n",
    "**Educational Highlight:** Visualizations of entropy dynamics and probability amplification in astrophysical contexts."
   ]
  },
  {
   "cell_type": "markdown",
   "metadata": {},
   "source": [
    "## Black Hole Information Paradox Toy Model\n",
    "Simulates simple evaporation with scrambling. Compute and visualize entropy to show information preservation."
   ]
  },
  {
   "cell_type": "code",
   "execution_count": null,
   "metadata": {},
   "outputs": [],
   "source": [
    "from src.black_hole_toy import black_hole_toy_model\n",
    "circuit, ent = black_hole_toy_model()\n",
    "circuit.draw('mpl')\n",
    "print(f'Entanglement Entropy of Radiation: {ent}')\n",
    "# Visualize state\n",
    "from qiskit.visualization import plot_bloch_multivector\n",
    "state = circuit.remove_final_measurements(inplace=False) # For vis\n",
    "# Need to run statevector sim again\n",
    "from qiskit_aer import Aer\n",
    "from qiskit.visualization import plot_state_city\n",
    "sim = Aer.get_backend('statevector_simulator')\n",
    "result = sim.run(circuit).result()\n",
    "state = result.get_statevector()\n",
    "print('Bloch Spheres:')\n",
    "plot_bloch_multivector(state)"
   ]
  },
  {
   "cell_type": "markdown",
   "metadata": {},
   "source": [
    "## Explanation\n",
    "Infalling qubit entangled with BH, then scrambled with radiation. Entropy >0 shows entanglement (information 'lost' but recoverable). In full models, page curve shows recovery."
   ]
  },
  {
   "cell_type": "markdown",
   "metadata": {},
   "source": [
    "## Grover's for Gravitational Wave Patterns\n",
    "Adapts Grover to search a small template bank (e.g., 4 simplified GW waveforms represented as binary states)."
   ]
  },
  {
   "cell_type": "code",
   "execution_count": null,
   "metadata": {},
   "outputs": [],
   "source": [
    "from src.grover import grovers_algorithm\n",
    "# Assume states '00','01','10','11' as GW templates (e.g., different frequencies)\n",
    "# Mark '10' as matching pattern (simulated detection)\n",
    "circuit, result = grovers_algorithm(num_qubits=2, marked_item='10')\n",
    "circuit.draw('mpl')\n",
    "print(result)\n",
    "from qiskit.visualization import plot_histogram\n",
    "plot_histogram(result)"
   ]
  },
  {
   "cell_type": "markdown",
   "metadata": {},
   "source": [
    "## Explanation\n",
    "Grover amplifies the marked template's probability. In real GW detection, this speeds up matched filtering over large parameter spaces (quadratic speedup per research on GW150914)."
   ]
  }
 ],
 "metadata": {
  "kernelspec": {
   "display_name": "Python 3",
   "language": "python",
   "name": "python3"
  },
  "language_info": {
   "codemirror_mode": {
    "name": "ipython",
    "version": 3
   },
   "file_extension": ".py",
   "mimetype": "text/x-python",
   "name": "python",
   "nbconvert_exporter": "python",
   "pygments_lexer": "ipython3",
   "version": "3.9.7"
  }
 },
 "nbformat": 4,
 "nbformat_minor": 4
}
